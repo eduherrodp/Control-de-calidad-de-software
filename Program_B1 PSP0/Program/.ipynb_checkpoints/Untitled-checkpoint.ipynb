{
 "cells": [
  {
   "cell_type": "code",
   "execution_count": 1,
   "id": "c86c7bcd-8c1d-4045-ac10-76b5acf659cf",
   "metadata": {},
   "outputs": [],
   "source": [
    "import os"
   ]
  },
  {
   "cell_type": "code",
   "execution_count": 2,
   "id": "0e60a22a-995f-4a0a-85c3-33784525c9e5",
   "metadata": {},
   "outputs": [],
   "source": [
    "class File:\n",
    "    def __init__(self):\n",
    "        self.fileName = None\n",
    "        \n",
    "    def loc(self):\n",
    "        count = 0\n",
    "        count_ = 0\n",
    "        totals = 0\n",
    "        \n",
    "        file = open(\"Programs/\"+self.fileName, \"r\")\n",
    "        \n",
    "        for line in file:\n",
    "            line.strip()\n",
    "            for char in line:\n",
    "                if char == \"#\":\n",
    "                    count+=1\n",
    "            totals += 1\n",
    "            \n",
    "        for line_ in file:\n",
    "            for char_ in line_:\n",
    "                if char_ == \"\":\n",
    "                    count_+=1\n",
    "        \n",
    "        print(f'Comentarios = {count}')\n",
    "        print(f'Blank = {count_}')\n",
    "        \n",
    "        final = totals-count-count_\n",
    "        print(f'LOC: {str(final)}')\n",
    "        file.close()"
   ]
  },
  {
   "cell_type": "code",
   "execution_count": null,
   "id": "4827e0fa-ae72-4c09-b8e8-e504ce74ff38",
   "metadata": {},
   "outputs": [
    {
     "name": "stdout",
     "output_type": "stream",
     "text": [
      "1. Selecr file\n",
      "0: Exit\n",
      "\n",
      "\n",
      "[0]: PSP0_201938227.py\n",
      "[1]: PSP0_A2_201938227.py\n",
      "[2]: PSP0_A3_201938227.py\n",
      "\n",
      "\n"
     ]
    },
    {
     "name": "stdin",
     "output_type": "stream",
     "text": [
      "Select a file:  0\n"
     ]
    },
    {
     "name": "stdout",
     "output_type": "stream",
     "text": [
      "PSP0_201938227.py\n",
      "Comentarios = 30\n",
      "Blank = 0\n",
      "LOC: 60\n",
      "1. Selecr file\n",
      "0: Exit\n",
      "\n",
      "\n",
      "[0]: PSP0_201938227.py\n",
      "[1]: PSP0_A2_201938227.py\n",
      "[2]: PSP0_A3_201938227.py\n",
      "\n",
      "\n"
     ]
    }
   ],
   "source": [
    "if __name__ == \"__main__\":\n",
    "    op = 1\n",
    "    while(op != 0):\n",
    "        print(\"1. Selecr file\")\n",
    "        print(\"0: Exit\")\n",
    "        if op == 1:\n",
    "            files = os.listdir(\"Programs\")\n",
    "            print(\"\\n\")\n",
    "            for i in range(len(files)):\n",
    "                print(f'[{i}]: '+files[i])\n",
    "            print(\"\\n\")\n",
    "            \n",
    "            file_to_open = int(input(\"Select a file: \"))\n",
    "            file = File()\n",
    "            file.fileName = str(files[file_to_open])\n",
    "            print(str(file.fileName))\n",
    "            \n",
    "            file.loc()"
   ]
  },
  {
   "cell_type": "code",
   "execution_count": null,
   "id": "c53c35fa-0604-4b0f-a4d7-e4eddc7a792b",
   "metadata": {},
   "outputs": [],
   "source": []
  }
 ],
 "metadata": {
  "kernelspec": {
   "display_name": "Python 3 (ipykernel)",
   "language": "python",
   "name": "python3"
  },
  "language_info": {
   "codemirror_mode": {
    "name": "ipython",
    "version": 3
   },
   "file_extension": ".py",
   "mimetype": "text/x-python",
   "name": "python",
   "nbconvert_exporter": "python",
   "pygments_lexer": "ipython3",
   "version": "3.9.12"
  }
 },
 "nbformat": 4,
 "nbformat_minor": 5
}
